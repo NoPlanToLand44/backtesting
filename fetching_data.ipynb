{
 "cells": [
  {
   "cell_type": "code",
   "execution_count": 1,
   "metadata": {},
   "outputs": [],
   "source": [
    "import pandas as pd \n",
    "import yfinance as yf\n",
    "import numpy as np\n",
    "import matplotlib.pyplot as plt\n",
    "import backtrader as bt\n",
    "import datetime\n",
    "import os\n",
    "from flask import Flask, render_template, request, redirect, url_for, flash\n"
   ]
  },
  {
   "cell_type": "code",
   "execution_count": 73,
   "metadata": {},
   "outputs": [
    {
     "name": "stderr",
     "output_type": "stream",
     "text": [
      "[*********************100%***********************]  1 of 1 completed\n"
     ]
    }
   ],
   "source": [
    "ticker = 'NVDA'\n",
    "# getting the last 5 years of data until current date\n",
    "data = yf.download(ticker, start = datetime.datetime.now() - datetime.timedelta(1500), end = datetime.datetime.now())\n",
    "data.columns = data.columns.droplevel([1]) # clear the multi-index columns\n",
    "data_feed = bt.feeds.PandasData(dataname = data)"
   ]
  },
  {
   "cell_type": "code",
   "execution_count": 74,
   "metadata": {},
   "outputs": [],
   "source": [
    "carebro = bt.Cerebro()# the class that will handle the backtesting \n",
    "carebro.adddata(data_feed)  # carebro takes in a feed from a backtrader pandas DF \n",
    "carebro.broker.setcash(10000) # might want to expose that to the user later"
   ]
  },
  {
   "cell_type": "code",
   "execution_count": null,
   "metadata": {},
   "outputs": [],
   "source": []
  },
  {
   "cell_type": "code",
   "execution_count": 75,
   "metadata": {},
   "outputs": [],
   "source": [
    "class SmaCrossStrategy(bt.Strategy):\n",
    "    params = (('fast', 1),('slow', 200),('mega_slow', 500), ) # parameters for the strategy\n",
    "    def __init__(self):\n",
    "        self.sma_fast = bt.indicators.SimpleMovingAverage(self.datas[0], period = self.params.fast)\n",
    "        self.sma_slow = bt.indicators.SimpleMovingAverage(self.datas[0], period = self.params.slow)\n",
    "        self.sma_super_slow = bt.indicators.SimpleMovingAverage(self.datas[0], period = self.params.mega_slow)\n",
    "        self.crossover_fs = bt.indicators.CrossOver(self.sma_fast, self.sma_slow) # crossover signal\n",
    "        self.crossover_ss = bt.indicators.CrossOver(self.sma_slow, self.sma_super_slow) # crossover signal\n",
    "\n",
    "# add more indicators classes here RSI, MACD, etc.\n",
    "\n",
    "    def next(self):\n",
    "        # if we are not in a position and a golder cross occurs, buy\n",
    "        if not self.position: # self.postion = 0 when we are not in a position\n",
    "            if self.crossover_fs > 0: # self.crossover_fs = 1 when the fast sma crosses the slow sma from below\n",
    "                self.buy()  # buy the stock\n",
    "        else : \n",
    "            if self.crossover_fs < 0: # self.crossover_fs = -1 when the fast sma crosses the slow sma from above  \n",
    "                self.sell()\n",
    "        # add more conditions here for more indicators\n",
    "            "
   ]
  },
  {
   "cell_type": "code",
   "execution_count": 76,
   "metadata": {},
   "outputs": [],
   "source": [
    "class buy_and_hold(bt.Strategy):\n",
    "    def next(self):\n",
    "        self.buy()\n",
    "carebro2 = bt.Cerebro()# the class that will handle the backtesting \n",
    "carebro2.adddata(data_feed)  # carebro takes in a feed from a backtrader pandas DF \n",
    "carebro2.broker.setcash(10000) # might want to expose that to the user later\n",
    "carebro2.addstrategy(buy_and_hold)\n",
    "carebro2.addsizer(bt.sizers.PercentSizer, percents = 100) # 10% of the cash will be used for each trade\n",
    "results2 = carebro2.run()"
   ]
  },
  {
   "cell_type": "code",
   "execution_count": 77,
   "metadata": {},
   "outputs": [],
   "source": [
    "carebro.addstrategy(SmaCrossStrategy)\n",
    "carebro.addsizer(bt.sizers.PercentSizer, percents = 10) # 10% of the cash will be used for each trade\n",
    "carebro.addanalyzer(bt.analyzers.SharpeRatio, _name = 'sharpe')\n",
    "results = carebro.run()\n"
   ]
  },
  {
   "cell_type": "code",
   "execution_count": 78,
   "metadata": {},
   "outputs": [
    {
     "name": "stdout",
     "output_type": "stream",
     "text": [
      "Final value from strat1 : 9834.291248292799\n",
      "Final value from strat2 : 73857.92715901606\n"
     ]
    }
   ],
   "source": [
    "final_value = carebro.broker.getvalue()\n",
    "final_value2 = carebro2.broker.getvalue()\n",
    "print(f'Final value from strat1 : {final_value}')\n",
    "print(f'Final value from strat2 : {final_value2}')\n",
    "sharp = results[0].analyzers.sharpe.get_analysis()"
   ]
  },
  {
   "cell_type": "code",
   "execution_count": null,
   "metadata": {},
   "outputs": [
    {
     "ename": "NameError",
     "evalue": "name 'strategy' is not defined",
     "output_type": "error",
     "traceback": [
      "\u001b[31m---------------------------------------------------------------------------\u001b[39m",
      "\u001b[31mNameError\u001b[39m                                 Traceback (most recent call last)",
      "\u001b[36mCell\u001b[39m\u001b[36m \u001b[39m\u001b[32mIn[84]\u001b[39m\u001b[32m, line 1\u001b[39m\n\u001b[32m----> \u001b[39m\u001b[32m1\u001b[39m \u001b[43mstrategy\u001b[49m\n",
      "\u001b[31mNameError\u001b[39m: name 'strategy' is not defined"
     ]
    }
   ],
   "source": []
  },
  {
   "cell_type": "code",
   "execution_count": null,
   "metadata": {},
   "outputs": [
    {
     "data": {
      "text/plain": [
       "datetime.datetime(2025, 4, 1, 15, 21, 32, 772346)"
      ]
     },
     "execution_count": 2,
     "metadata": {},
     "output_type": "execute_result"
    }
   ],
   "source": [
    "datetime.datetime.now()\n",
    "# Create a Flask applicatio"
   ]
  },
  {
   "cell_type": "code",
   "execution_count": 3,
   "metadata": {},
   "outputs": [
    {
     "data": {
      "text/plain": [
       "datetime.timedelta(days=10)"
      ]
     },
     "execution_count": 3,
     "metadata": {},
     "output_type": "execute_result"
    }
   ],
   "source": [
    "datetime.timedelta(10)"
   ]
  },
  {
   "cell_type": "code",
   "execution_count": 24,
   "metadata": {},
   "outputs": [],
   "source": [
    "class Student: \n",
    "    def __init__(self):\n",
    "        self.name = 'Emil'"
   ]
  },
  {
   "cell_type": "code",
   "execution_count": 25,
   "metadata": {},
   "outputs": [],
   "source": [
    "student = Student()"
   ]
  },
  {
   "cell_type": "code",
   "execution_count": 35,
   "metadata": {},
   "outputs": [
    {
     "data": {
      "text/plain": [
       "8"
      ]
     },
     "execution_count": 35,
     "metadata": {},
     "output_type": "execute_result"
    }
   ],
   "source": [
    "class Store:\n",
    "    def __init__(self, name, items: list):\n",
    "        self.name = name \n",
    "        self.items = items\n",
    "        # You'll need 'name' as an argument to this method.\n",
    "        # Then, initialise 'self.name' to be the argument, and 'self.items' to be an empty list.\n",
    "    \n",
    "    def add_item(self, name, price):\n",
    "        self.items.append({'name' : name, 'price' : price})\n",
    "        # Create a dictionary with keys name and price, and append that to self.items.\n",
    "\n",
    "    def stock_price(self):\n",
    "        total = 0\n",
    "        for i in self.items:\n",
    "            total = total + i['price']\n",
    "        return total\n",
    "        # Add together all item prices in self.items and return the total.\n",
    "\n",
    "store1 = Store('lexi', [])\n",
    "store1.add_item('fanta', 2)\n",
    "store1.add_item('cola', 6)\n",
    "store1.stock_price()\n"
   ]
  },
  {
   "cell_type": "code",
   "execution_count": 74,
   "metadata": {},
   "outputs": [
    {
     "name": "stdout",
     "output_type": "stream",
     "text": [
      "None\n"
     ]
    }
   ],
   "source": [
    "import functools\n",
    "user = {\n",
    "    'username' : 'Emil',\n",
    "    'access_lvl' : 'admin' \n",
    "}\n",
    "\n",
    "def make_secure(access_level):\n",
    "    def decorator(func):\n",
    "        @functools.wraps(func)\n",
    "        def secure_function(*args, **kwargs):\n",
    "            if user['access_lvl'] == access_level:\n",
    "                return func(*args, **kwargs)\n",
    "            else:\n",
    "                print('insufissient priv')\n",
    "        return secure_function\n",
    "    return decorator\n",
    "\n",
    "\n",
    "@make_secure('admin')\n",
    "def get_admin_pw():\n",
    "    return 1234\n",
    "\n",
    "print(get_admin_pw.__defaults__)\n"
   ]
  },
  {
   "cell_type": "code",
   "execution_count": null,
   "metadata": {},
   "outputs": [
    {
     "name": "stdout",
     "output_type": "stream",
     "text": [
      "get_admin_pw\n"
     ]
    }
   ],
   "source": []
  },
  {
   "cell_type": "code",
   "execution_count": null,
   "metadata": {},
   "outputs": [],
   "source": []
  }
 ],
 "metadata": {
  "kernelspec": {
   "display_name": ".venv",
   "language": "python",
   "name": "python3"
  },
  "language_info": {
   "codemirror_mode": {
    "name": "ipython",
    "version": 3
   },
   "file_extension": ".py",
   "mimetype": "text/x-python",
   "name": "python",
   "nbconvert_exporter": "python",
   "pygments_lexer": "ipython3",
   "version": "3.12.9"
  }
 },
 "nbformat": 4,
 "nbformat_minor": 2
}
