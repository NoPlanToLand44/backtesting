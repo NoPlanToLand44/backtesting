{
 "cells": [
  {
   "cell_type": "code",
   "execution_count": 43,
   "metadata": {},
   "outputs": [],
   "source": [
    "import pandas as pd \n",
    "import yfinance as yf\n",
    "import numpy as np\n",
    "import matplotlib.pyplot as plt\n",
    "import backtrader as bt\n",
    "import datetime\n",
    "import os"
   ]
  },
  {
   "cell_type": "code",
   "execution_count": 44,
   "metadata": {},
   "outputs": [
    {
     "name": "stderr",
     "output_type": "stream",
     "text": [
      "[*********************100%***********************]  1 of 1 completed\n"
     ]
    }
   ],
   "source": [
    "ticker = 'NVDA'\n",
    "# getting the last 5 years of data until current date\n",
    "data = yf.download(ticker, start = datetime.datetime.now() - datetime.timedelta(1500), end = datetime.datetime.now())\n",
    "data.columns = data.columns.droplevel([1])\n",
    "data_feed = bt.feeds.PandasData(dataname = data)"
   ]
  },
  {
   "cell_type": "code",
   "execution_count": 45,
   "metadata": {},
   "outputs": [],
   "source": [
    "carebro = bt.Cerebro()# the class that will handle the backtesting \n",
    "carebro.adddata(data_feed)  # carebro takes in a feed from a backtrader pandas DF \n",
    "carebro.broker.setcash(10000) # might want to expose that to the user later"
   ]
  },
  {
   "cell_type": "code",
   "execution_count": 46,
   "metadata": {},
   "outputs": [],
   "source": [
    "class SmaCrossStrategy(bt.Strategy):\n",
    "    params = (('fast', 1),('slow', 200),('mega_slow', 500), ) # parameters for the strategy\n",
    "    def __init__(self):\n",
    "        self.sma_fast = bt.indicators.SimpleMovingAverage(self.datas[0], period = self.params.fast)\n",
    "        self.sma_slow = bt.indicators.SimpleMovingAverage(self.datas[0], period = self.params.slow)\n",
    "        self.sma_super_slow = bt.indicators.SimpleMovingAverage(self.datas[0], period = self.params.mega_slow)\n",
    "        self.crossover_fs = bt.indicators.CrossOver(self.sma_fast, self.sma_slow) # crossover signal\n",
    "        self.crossover_ss = bt.indicators.CrossOver(self.sma_slow, self.sma_super_slow) # crossover signal\n",
    "\n",
    "# add more indicators classes here RSI, MACD, etc.\n",
    "\n",
    "    def next(self):\n",
    "        # if we are not in a position and a golder cross occurs, buy\n",
    "        if not self.position: # self.postion = 0 when we are not in a position\n",
    "            if self.crossover_fs > 0: # self.crossover_fs = 1 when the fast sma crosses the slow sma from below\n",
    "                self.buy()  # buy the stock\n",
    "        else : \n",
    "            if self.crossover_fs < 0: # self.crossover_fs = -1 when the fast sma crosses the slow sma from above  \n",
    "                self.sell()\n",
    "        # add more conditions here for more indicators\n",
    "            "
   ]
  },
  {
   "cell_type": "code",
   "execution_count": 47,
   "metadata": {},
   "outputs": [],
   "source": [
    "\n",
    "\n",
    "class buy_and_hold(bt.Strategy):\n",
    "    def next(self):\n",
    "        self.buy()\n"
   ]
  },
  {
   "cell_type": "code",
   "execution_count": 48,
   "metadata": {},
   "outputs": [],
   "source": [
    "carebro.addstrategy(SmaCrossStrategy)\n",
    "carebro.addsizer(bt.sizers.PercentSizer, percents = 10) # 10% of the cash will be used for each trade\n",
    "results = carebro.run()\n",
    "carebro2 = bt.Cerebro()# the class that will handle the backtesting \n",
    "carebro2.adddata(data_feed)  # carebro takes in a feed from a backtrader pandas DF \n",
    "carebro2.broker.setcash(10000) # might want to expose that to the user later\n",
    "carebro2.addstrategy(buy_and_hold)\n",
    "carebro2.addsizer(bt.sizers.PercentSizer, percents = 100) # 10% of the cash will be used for each trade\n",
    "results2 = carebro2.run()"
   ]
  },
  {
   "cell_type": "code",
   "execution_count": 49,
   "metadata": {},
   "outputs": [
    {
     "name": "stdout",
     "output_type": "stream",
     "text": [
      "Final value from strat1 : 9834.291248292799\n",
      "Final value from strat2 : 77023.26770194818\n"
     ]
    }
   ],
   "source": [
    "final_value = carebro.broker.getvalue()\n",
    "final_value2 = carebro2.broker.getvalue()\n",
    "print(f'Final value from strat1 : {final_value}')\n",
    "print(f'Final value from strat2 : {final_value2}')\n"
   ]
  },
  {
   "cell_type": "code",
   "execution_count": null,
   "metadata": {},
   "outputs": [],
   "source": []
  },
  {
   "cell_type": "code",
   "execution_count": null,
   "metadata": {},
   "outputs": [],
   "source": []
  },
  {
   "cell_type": "code",
   "execution_count": null,
   "metadata": {},
   "outputs": [],
   "source": []
  },
  {
   "cell_type": "code",
   "execution_count": null,
   "metadata": {},
   "outputs": [],
   "source": []
  },
  {
   "cell_type": "code",
   "execution_count": null,
   "metadata": {},
   "outputs": [],
   "source": []
  },
  {
   "cell_type": "code",
   "execution_count": 23,
   "metadata": {},
   "outputs": [],
   "source": [
    "str = SmaCrossStrategy"
   ]
  },
  {
   "cell_type": "code",
   "execution_count": null,
   "metadata": {},
   "outputs": [],
   "source": []
  }
 ],
 "metadata": {
  "kernelspec": {
   "display_name": ".venv",
   "language": "python",
   "name": "python3"
  },
  "language_info": {
   "codemirror_mode": {
    "name": "ipython",
    "version": 3
   },
   "file_extension": ".py",
   "mimetype": "text/x-python",
   "name": "python",
   "nbconvert_exporter": "python",
   "pygments_lexer": "ipython3",
   "version": "3.12.9"
  }
 },
 "nbformat": 4,
 "nbformat_minor": 2
}
